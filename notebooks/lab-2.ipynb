{
 "cells": [
  {
   "cell_type": "markdown",
   "id": "c115edb2",
   "metadata": {},
   "source": [
    "# Exercise 2: Vegetation Index Analysis\n",
    "In this exercise, you will analyze vegetation changes within one growing season in a selected agricultural region (Kujawy, Poland)."
   ]
  },
  {
   "cell_type": "markdown",
   "id": "1761c7f1",
   "metadata": {},
   "source": [
    "## Task 1: Define AOI\n",
    "Create an Area of Interest (AOI) using the coordinates provided below."
   ]
  },
  {
   "cell_type": "code",
   "execution_count": 1,
   "id": "9f4c98f3",
   "metadata": {},
   "outputs": [],
   "source": [
    "# TODO: Define AOI\n",
    "import ee\n",
    "ee.Authenticate()\n",
    "ee.Initialize(project='ee-kacperkrempa01')\n",
    "aoi = ee.Geometry.Point([20.016492037259756, 40.02033870631831])"
   ]
  },
  {
   "cell_type": "markdown",
   "id": "44ec57e7",
   "metadata": {},
   "source": [
    "## Task 2: Retrieve Sentinel-2 Imagery\n",
    "Retrieve two Sentinel-2 satellite images from the following dates: 2023-04-01 and 2023-07-01."
   ]
  },
  {
   "cell_type": "code",
   "execution_count": 2,
   "id": "cd32529c",
   "metadata": {},
   "outputs": [],
   "source": [
    "# TODO: Retrieve Sentinel-2 images for the selected dates.\n",
    "image_04 = ee.ImageCollection('COPERNICUS/S2_HARMONIZED') \\\n",
    "    .filterDate('2024-04-01', '2024-05-01') \\\n",
    "    .filterBounds(aoi) \\\n",
    "    .sort('CLOUDY_PIXEL_PERCENTAGE')\\\n",
    "    .first()\n",
    "\n",
    "\n",
    "\n",
    "image_07 = ee.ImageCollection('COPERNICUS/S2_HARMONIZED') \\\n",
    "    .filterDate('2024-07-01', '2024-08-01') \\\n",
    "    .filterBounds(aoi) \\\n",
    "    .sort('CLOUDY_PIXEL_PERCENTAGE')\\\n",
    "    .first()\n",
    "\n",
    "\n"
   ]
  },
  {
   "cell_type": "markdown",
   "id": "e0d5a72c",
   "metadata": {},
   "source": [
    "## Task 3: Calculate NDVI\n",
    "Calculate the Normalized Difference Vegetation Index (NDVI) for both images."
   ]
  },
  {
   "cell_type": "code",
   "execution_count": 3,
   "id": "5454dd10",
   "metadata": {},
   "outputs": [],
   "source": [
    "# TODO: Calculate NDVI for both images (Choose the appropriate S-2 bands).\n",
    "nir_04 = image_04.select('B8')\n",
    "red_04 = image_04.select('B4')\n",
    "ndvi_04 = nir_04.subtract(red_04).divide(nir_04.add(red_04)).rename('NDVI_04')\n",
    "nir_07 = image_07.select('B8')\n",
    "red_07 = image_07.select('B4')\n",
    "ndvi_07 = nir_07.subtract(red_07).divide(nir_07.add(red_07)).rename('NDVI_07')"
   ]
  },
  {
   "cell_type": "markdown",
   "id": "92023a75",
   "metadata": {},
   "source": [
    "## Task 4: Compare NDVI\n",
    "Display both NDVI indices on the map and calculate and visualize their difference."
   ]
  },
  {
   "cell_type": "code",
   "execution_count": 5,
   "id": "bc2f4d29",
   "metadata": {},
   "outputs": [
    {
     "data": {
      "text/html": [
       "\n",
       "            <style>\n",
       "                .geemap-dark {\n",
       "                    --jp-widgets-color: white;\n",
       "                    --jp-widgets-label-color: white;\n",
       "                    --jp-ui-font-color1: white;\n",
       "                    --jp-layout-color2: #454545;\n",
       "                    background-color: #383838;\n",
       "                }\n",
       "\n",
       "                .geemap-dark .jupyter-button {\n",
       "                    --jp-layout-color3: #383838;\n",
       "                }\n",
       "\n",
       "                .geemap-colab {\n",
       "                    background-color: var(--colab-primary-surface-color, white);\n",
       "                }\n",
       "\n",
       "                .geemap-colab .jupyter-button {\n",
       "                    --jp-layout-color3: var(--colab-primary-surface-color, white);\n",
       "                }\n",
       "            </style>\n",
       "            "
      ],
      "text/plain": [
       "<IPython.core.display.HTML object>"
      ]
     },
     "metadata": {},
     "output_type": "display_data"
    },
    {
     "data": {
      "application/vnd.jupyter.widget-view+json": {
       "model_id": "8ae9d674546e4d23abad09dd7c7401a3",
       "version_major": 2,
       "version_minor": 0
      },
      "text/plain": [
       "Map(center=[40.02033870631831, 20.016492037259756], controls=(WidgetControl(options=['position', 'transparent_…"
      ]
     },
     "execution_count": 5,
     "metadata": {},
     "output_type": "execute_result"
    }
   ],
   "source": [
    "# TODO: Compare NDVI, visualize the differences, and analyze vegetation changes.\n",
    "\n",
    "import geemap\n",
    "ndvi_difference = ndvi_07.subtract(ndvi_04).rename('NDVI_diff')\n",
    "Map_comp = geemap.Map()\n",
    "viz_params = {'bands': ['NDVI_diff'], 'min': -0.5, 'max': 0.5}\n",
    "Map_comp.addLayer(ndvi_difference, {\n",
    "    'min': -0.5, 'max': 0.5,\n",
    "    'palette': ['red', 'blue', 'green']\n",
    "}, \"NDVI_diff\")\n",
    "centerpoint = ee.Geometry.Point([20.016492037259756, 40.02033870631831])\n",
    "Map_comp.centerObject(centerpoint, zoom=10)\n",
    "Map_comp"
   ]
  },
  {
   "cell_type": "markdown",
   "id": "22cab30e",
   "metadata": {},
   "source": [
    "## Task 5: Interpret the Results\n",
    "Briefly describe the meaning of the observed NDVI changes within the analyzed period."
   ]
  },
  {
   "cell_type": "markdown",
   "id": "c5d0d661",
   "metadata": {},
   "source": [
    "# TODO: Provide your interpretation here in a Markdown cell."
   ]
  },
  {
   "cell_type": "markdown",
   "id": "971e3faa",
   "metadata": {},
   "source": [
    "I obtained a map with layer showing change of vegetation. I achieved that by subtarcting ndvi of april from ndvi of june. \n",
    "Green color indicates increase of vegetation.\n",
    "Red color indicates decrese of vegetation.\n",
    "Blue color indicates no change/subtle change of vegetation.\n",
    "\n",
    "Selected region is divided by \"line\" from top left corner to bottom right corner. In part under this \"line\" vegetation decresed (high temperatures, dry climate). In part over this line vegetation has increased."
   ]
  },
  {
   "cell_type": "markdown",
   "id": "c968b686",
   "metadata": {},
   "source": [
    "## Task 6: False Color Composite for Vegetation Condition Assessment\n",
    "Add false-color composites (NIR, RED, GREEN) for both dates to the map for visual assessment of vegetation condition."
   ]
  },
  {
   "cell_type": "code",
   "execution_count": 6,
   "id": "f6c53f4d",
   "metadata": {},
   "outputs": [
    {
     "data": {
      "text/html": [
       "\n",
       "            <style>\n",
       "                .geemap-dark {\n",
       "                    --jp-widgets-color: white;\n",
       "                    --jp-widgets-label-color: white;\n",
       "                    --jp-ui-font-color1: white;\n",
       "                    --jp-layout-color2: #454545;\n",
       "                    background-color: #383838;\n",
       "                }\n",
       "\n",
       "                .geemap-dark .jupyter-button {\n",
       "                    --jp-layout-color3: #383838;\n",
       "                }\n",
       "\n",
       "                .geemap-colab {\n",
       "                    background-color: var(--colab-primary-surface-color, white);\n",
       "                }\n",
       "\n",
       "                .geemap-colab .jupyter-button {\n",
       "                    --jp-layout-color3: var(--colab-primary-surface-color, white);\n",
       "                }\n",
       "            </style>\n",
       "            "
      ],
      "text/plain": [
       "<IPython.core.display.HTML object>"
      ]
     },
     "metadata": {},
     "output_type": "display_data"
    },
    {
     "data": {
      "application/vnd.jupyter.widget-view+json": {
       "model_id": "326da616ae8449c3a171e78f5ffe61a0",
       "version_major": 2,
       "version_minor": 0
      },
      "text/plain": [
       "Map(center=[40.02033870631831, 20.016492037259756], controls=(WidgetControl(options=['position', 'transparent_…"
      ]
     },
     "execution_count": 6,
     "metadata": {},
     "output_type": "execute_result"
    }
   ],
   "source": [
    "# TODO: Create a false-color composite (NIR, RED, GREEN) and add it to the map\n",
    "vegetation_viz = {'bands': ['B8', 'B4', 'B3'], 'min': 0, 'max': 4000}\n",
    "# Add Sentinel-2 images for both dates to the map using this composite.\n",
    "Map = geemap.Map()\n",
    "Map.addLayer(image_04, vegetation_viz, \"April\")\n",
    "Map.addLayer(image_07, vegetation_viz, \"July\")\n",
    "centerpoint = ee.Geometry.Point([20.016492037259756, 40.02033870631831])\n",
    "Map.centerObject(centerpoint, zoom=10)\n",
    "Map"
   ]
  }
 ],
 "metadata": {
  "kernelspec": {
   "display_name": "eo_lab",
   "language": "python",
   "name": "python3"
  },
  "language_info": {
   "codemirror_mode": {
    "name": "ipython",
    "version": 3
   },
   "file_extension": ".py",
   "mimetype": "text/x-python",
   "name": "python",
   "nbconvert_exporter": "python",
   "pygments_lexer": "ipython3",
   "version": "3.9.21"
  }
 },
 "nbformat": 4,
 "nbformat_minor": 5
}
